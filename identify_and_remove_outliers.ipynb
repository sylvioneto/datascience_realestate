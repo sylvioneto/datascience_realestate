{
 "cells": [
  {
   "cell_type": "markdown",
   "metadata": {},
   "source": [
    "# Identifying and removing outliers"
   ]
  },
  {
   "cell_type": "code",
   "execution_count": 70,
   "metadata": {},
   "outputs": [],
   "source": [
    "%matplotlib inline\n",
    "import matplotlib.pyplot as plt\n",
    "import pandas as pd\n",
    "plt.rc('figure', figsize = (20,10))"
   ]
  },
  {
   "cell_type": "code",
   "execution_count": 71,
   "metadata": {},
   "outputs": [
    {
     "data": {
      "text/html": [
       "<div>\n",
       "<style scoped>\n",
       "    .dataframe tbody tr th:only-of-type {\n",
       "        vertical-align: middle;\n",
       "    }\n",
       "\n",
       "    .dataframe tbody tr th {\n",
       "        vertical-align: top;\n",
       "    }\n",
       "\n",
       "    .dataframe thead th {\n",
       "        text-align: right;\n",
       "    }\n",
       "</style>\n",
       "<table border=\"1\" class=\"dataframe\">\n",
       "  <thead>\n",
       "    <tr style=\"text-align: right;\">\n",
       "      <th></th>\n",
       "      <th>Type</th>\n",
       "      <th>Location</th>\n",
       "      <th>Bedrooms</th>\n",
       "      <th>Parking</th>\n",
       "      <th>Suites</th>\n",
       "      <th>Area</th>\n",
       "      <th>Rent</th>\n",
       "      <th>Condo fee</th>\n",
       "      <th>City fee</th>\n",
       "      <th>Total Gross</th>\n",
       "      <th>Rent/Sqm</th>\n",
       "      <th>Total Gross/Sqm</th>\n",
       "      <th>House/Apart</th>\n",
       "    </tr>\n",
       "  </thead>\n",
       "  <tbody>\n",
       "    <tr>\n",
       "      <th>0</th>\n",
       "      <td>Quitinete</td>\n",
       "      <td>Copacabana</td>\n",
       "      <td>1</td>\n",
       "      <td>0</td>\n",
       "      <td>0</td>\n",
       "      <td>40</td>\n",
       "      <td>1700.0</td>\n",
       "      <td>500.0</td>\n",
       "      <td>60.0</td>\n",
       "      <td>2260.0</td>\n",
       "      <td>42.50</td>\n",
       "      <td>56.50</td>\n",
       "      <td>Others</td>\n",
       "    </tr>\n",
       "    <tr>\n",
       "      <th>1</th>\n",
       "      <td>Casa</td>\n",
       "      <td>Jardim Botânico</td>\n",
       "      <td>2</td>\n",
       "      <td>0</td>\n",
       "      <td>1</td>\n",
       "      <td>100</td>\n",
       "      <td>7000.0</td>\n",
       "      <td>0.0</td>\n",
       "      <td>0.0</td>\n",
       "      <td>7000.0</td>\n",
       "      <td>70.00</td>\n",
       "      <td>70.00</td>\n",
       "      <td>House</td>\n",
       "    </tr>\n",
       "    <tr>\n",
       "      <th>2</th>\n",
       "      <td>Conjunto Comercial/Sala</td>\n",
       "      <td>Barra da Tijuca</td>\n",
       "      <td>0</td>\n",
       "      <td>4</td>\n",
       "      <td>0</td>\n",
       "      <td>150</td>\n",
       "      <td>5200.0</td>\n",
       "      <td>4020.0</td>\n",
       "      <td>1111.0</td>\n",
       "      <td>10331.0</td>\n",
       "      <td>34.67</td>\n",
       "      <td>68.87</td>\n",
       "      <td>Others</td>\n",
       "    </tr>\n",
       "    <tr>\n",
       "      <th>3</th>\n",
       "      <td>Apartamento</td>\n",
       "      <td>Centro</td>\n",
       "      <td>1</td>\n",
       "      <td>0</td>\n",
       "      <td>0</td>\n",
       "      <td>15</td>\n",
       "      <td>800.0</td>\n",
       "      <td>390.0</td>\n",
       "      <td>20.0</td>\n",
       "      <td>1210.0</td>\n",
       "      <td>53.33</td>\n",
       "      <td>80.67</td>\n",
       "      <td>Apartment</td>\n",
       "    </tr>\n",
       "    <tr>\n",
       "      <th>4</th>\n",
       "      <td>Apartamento</td>\n",
       "      <td>Higienópolis</td>\n",
       "      <td>1</td>\n",
       "      <td>0</td>\n",
       "      <td>0</td>\n",
       "      <td>48</td>\n",
       "      <td>800.0</td>\n",
       "      <td>230.0</td>\n",
       "      <td>0.0</td>\n",
       "      <td>1030.0</td>\n",
       "      <td>16.67</td>\n",
       "      <td>21.46</td>\n",
       "      <td>Apartment</td>\n",
       "    </tr>\n",
       "  </tbody>\n",
       "</table>\n",
       "</div>"
      ],
      "text/plain": [
       "                      Type         Location  Bedrooms  Parking  Suites  Area  \\\n",
       "0                Quitinete       Copacabana         1        0       0    40   \n",
       "1                     Casa  Jardim Botânico         2        0       1   100   \n",
       "2  Conjunto Comercial/Sala  Barra da Tijuca         0        4       0   150   \n",
       "3              Apartamento           Centro         1        0       0    15   \n",
       "4              Apartamento     Higienópolis         1        0       0    48   \n",
       "\n",
       "     Rent  Condo fee  City fee  Total Gross  Rent/Sqm  Total Gross/Sqm  \\\n",
       "0  1700.0      500.0      60.0       2260.0     42.50            56.50   \n",
       "1  7000.0        0.0       0.0       7000.0     70.00            70.00   \n",
       "2  5200.0     4020.0    1111.0      10331.0     34.67            68.87   \n",
       "3   800.0      390.0      20.0       1210.0     53.33            80.67   \n",
       "4   800.0      230.0       0.0       1030.0     16.67            21.46   \n",
       "\n",
       "  House/Apart  \n",
       "0      Others  \n",
       "1       House  \n",
       "2      Others  \n",
       "3   Apartment  \n",
       "4   Apartment  "
      ]
     },
     "execution_count": 71,
     "metadata": {},
     "output_type": "execute_result"
    }
   ],
   "source": [
    "df_rent_data = pd.read_csv(\"data/aluguel.csv\", sep=\";\")\n",
    "df_rent_data.head()"
   ]
  },
  {
   "cell_type": "code",
   "execution_count": 72,
   "metadata": {},
   "outputs": [
    {
     "name": "stdout",
     "output_type": "stream",
     "text": [
      "Bottom limit -6000.0, Top limit 14000.0\n"
     ]
    }
   ],
   "source": [
    "# identify the edges\n",
    "rent = df_rent_data['Rent']\n",
    "q1 = rent.quantile(.25)\n",
    "q3 = rent.quantile(.75)\n",
    "iiq = q3 - q1\n",
    "bottom_limit = q1 - 1.5 * iiq\n",
    "top_limit = q3 + 1.5 * iiq\n",
    "print(\"Bottom limit {}, Top limit {}\".format(bottom_limit, top_limit))"
   ]
  },
  {
   "cell_type": "code",
   "execution_count": 73,
   "metadata": {},
   "outputs": [],
   "source": [
    "# removing outliers\n",
    "selection =  (rent >= bottom_limit) & (rent <= top_limit)\n",
    "df_rent_selected = df_rent_data[selection]"
   ]
  },
  {
   "cell_type": "code",
   "execution_count": 74,
   "metadata": {},
   "outputs": [
    {
     "data": {
      "text/plain": [
       "<matplotlib.axes._subplots.AxesSubplot at 0x1a4af52b748>"
      ]
     },
     "execution_count": 74,
     "metadata": {},
     "output_type": "execute_result"
    },
    {
     "data": {
      "image/png": "[encoded data removed]",
      "text/plain": [
       "<Figure size 1440x720 with 1 Axes>"
      ]
     },
     "metadata": {
      "needs_background": "light"
     },
     "output_type": "display_data"
    }
   ],
   "source": [
    "# present with boxsplot\n",
    "df_rent_selected.boxplot(['Rent'])"
   ]
  },
  {
   "cell_type": "code",
   "execution_count": 75,
   "metadata": {},
   "outputs": [
    {
     "data": {
      "text/plain": [
       "array([[<matplotlib.axes._subplots.AxesSubplot object at 0x000001A4AF55F668>]],\n",
       "      dtype=object)"
      ]
     },
     "execution_count": 75,
     "metadata": {},
     "output_type": "execute_result"
    },
    {
     "data": {
      "image/png": "[encoded data removed]",
      "text/plain": [
       "<Figure size 1440x720 with 1 Axes>"
      ]
     },
     "metadata": {
      "needs_background": "light"
     },
     "output_type": "display_data"
    }
   ],
   "source": [
    "# present with histogram\n",
    "df_rent_selected.hist(['Rent'])"
   ]
  },
  {
   "cell_type": "markdown",
   "metadata": {},
   "source": [
    "# Identifying and removing outliers by group"
   ]
  },
  {
   "cell_type": "code",
   "execution_count": 96,
   "metadata": {},
   "outputs": [
    {
     "data": {
      "text/plain": [
       "{'Apartamento': Int64Index([    3,     4,     5,     6,    10,    11,    12,    13,    15,\n",
       "                19,\n",
       "             ...\n",
       "             32943, 32944, 32947, 32949, 32950, 32951, 32953, 32956, 32957,\n",
       "             32958],\n",
       "            dtype='int64', length=19532),\n",
       " 'Casa': Int64Index([    1,    31,    74,    82,   138,   142,   216,   236,   269,\n",
       "               357,\n",
       "             ...\n",
       "             32613, 32644, 32652, 32732, 32739, 32778, 32859, 32893, 32911,\n",
       "             32931],\n",
       "            dtype='int64', length=967),\n",
       " 'Casa de Condomínio': Int64Index([    7,     8,    18,    22,    59,    85,   248,   253,   272,\n",
       "               306,\n",
       "             ...\n",
       "             32792, 32796, 32807, 32853, 32867, 32869, 32898, 32908, 32924,\n",
       "             32952],\n",
       "            dtype='int64', length=996),\n",
       " 'Casa de Vila': Int64Index([  117,   312,   324,   459,   504,  1052,  1239,  1271,  1377,\n",
       "              1515,\n",
       "             ...\n",
       "             32041, 32048, 32137, 32245, 32282, 32302, 32620, 32686, 32804,\n",
       "             32865],\n",
       "            dtype='int64', length=249)}"
      ]
     },
     "execution_count": 96,
     "metadata": {},
     "output_type": "execute_result"
    }
   ],
   "source": [
    "# group the rent price by type\n",
    "df_rent_selected_group = df_rent_data.query(\"Type in ('Apartamento', 'Casa', 'Casa de Vila', 'Casa de Condomínio')\").groupby('Type')['Rent']\n",
    "df_rent_selected_group.groups"
   ]
  },
  {
   "cell_type": "code",
   "execution_count": 97,
   "metadata": {},
   "outputs": [],
   "source": [
    "q1 = df_rent_selected_group.quantile(.25)\n",
    "q3 = df_rent_selected_group.quantile(.75)\n",
    "iiq = q3 - q1\n",
    "bottom_limit = q1 - 1.5 * iiq\n",
    "top_limit = q3 + 1.5 * iiq"
   ]
  },
  {
   "cell_type": "code",
   "execution_count": 98,
   "metadata": {},
   "outputs": [
    {
     "data": {
      "text/plain": [
       "<matplotlib.axes._subplots.AxesSubplot at 0x1a4b134b0f0>"
      ]
     },
     "execution_count": 98,
     "metadata": {},
     "output_type": "execute_result"
    },
    {
     "data": {
      "image/png": "[encoded data removed]",
      "text/plain": [
       "<Figure size 1440x720 with 1 Axes>"
      ]
     },
     "metadata": {
      "needs_background": "light"
     },
     "output_type": "display_data"
    }
   ],
   "source": [
    "# remove outlines by rent type\n",
    "df_data_new = pd.DataFrame()\n",
    "\n",
    "# for each type, select the records whithin the outlines\n",
    "for rent_type in df_rent_selected_group.groups.keys():\n",
    "    is_type = df_rent_data['Type'] == rent_type\n",
    "    df_type_selected = df_rent_data[is_type]\n",
    "    \n",
    "    is_within_limits = (df_type_selected['Rent'] >= bottom_limit[rent_type]) & (df_type_selected['Rent'] <= top_limit[rent_type])\n",
    "    df_within_limits = df_type_selected[is_within_limits]\n",
    "    \n",
    "    df_data_new = pd.concat([df_data_new, df_within_limits])\n",
    "\n",
    "df_data_new.boxplot(['Rent'], by = 'Type')"
   ]
  },
  {
   "cell_type": "code",
   "execution_count": 79,
   "metadata": {},
   "outputs": [
    {
     "data": {
      "text/plain": [
       "0         1700.0\n",
       "1         7000.0\n",
       "2         5200.0\n",
       "3          800.0\n",
       "4          800.0\n",
       "5         1200.0\n",
       "6         1300.0\n",
       "7        22000.0\n",
       "8         1000.0\n",
       "9        35000.0\n",
       "10        1200.0\n",
       "11        1500.0\n",
       "12        1500.0\n",
       "13        2000.0\n",
       "14        1800.0\n",
       "15       13000.0\n",
       "16       28000.0\n",
       "17        3800.0\n",
       "18        2000.0\n",
       "19         950.0\n",
       "20        1700.0\n",
       "21        1900.0\n",
       "22        7500.0\n",
       "23        1000.0\n",
       "24        2000.0\n",
       "25        4500.0\n",
       "26        1100.0\n",
       "27        7000.0\n",
       "28         750.0\n",
       "29        1300.0\n",
       "          ...   \n",
       "32930      500.0\n",
       "32931     5000.0\n",
       "32932     1500.0\n",
       "32933     2100.0\n",
       "32934     2200.0\n",
       "32935     4300.0\n",
       "32936     4100.0\n",
       "32937    10000.0\n",
       "32938     1950.0\n",
       "32939     1100.0\n",
       "32940     2250.0\n",
       "32941     2300.0\n",
       "32942     2000.0\n",
       "32943     5500.0\n",
       "32944     1550.0\n",
       "32945     1500.0\n",
       "32946     4000.0\n",
       "32947     3000.0\n",
       "32948      600.0\n",
       "32949    15000.0\n",
       "32950     1000.0\n",
       "32951     1000.0\n",
       "32952    15000.0\n",
       "32953      900.0\n",
       "32954    14000.0\n",
       "32955      800.0\n",
       "32956     1800.0\n",
       "32957     1400.0\n",
       "32958     3000.0\n",
       "32959     6500.0\n",
       "Name: Rent, Length: 32960, dtype: float64"
      ]
     },
     "execution_count": 79,
     "metadata": {},
     "output_type": "execute_result"
    }
   ],
   "source": [
    "df_rent_data['Rent']"
   ]
  }
 ],
 "metadata": {
  "kernelspec": {
   "display_name": "Python 3",
   "language": "python",
   "name": "python3"
  },
  "language_info": {
   "codemirror_mode": {
    "name": "ipython",
    "version": 3
   },
   "file_extension": ".py",
   "mimetype": "text/x-python",
   "name": "python",
   "nbconvert_exporter": "python",
   "pygments_lexer": "ipython3",
   "version": "3.6.8"
  }
 },
 "nbformat": 4,
 "nbformat_minor": 2
}
